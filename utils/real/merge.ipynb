{
 "cells": [
  {
   "attachments": {},
   "cell_type": "markdown",
   "metadata": {},
   "source": [
    "### Merge obj det and determiner label files"
   ]
  },
  {
   "cell_type": "code",
   "execution_count": 36,
   "metadata": {},
   "outputs": [
    {
     "name": "stdout",
     "output_type": "stream",
     "text": [
      "{'id': 22, 'datatorch_id': '47948905-da9f-4068-b4a4-4831eae2c753', 'image_id': 12, 'category_id': 94, 'segmentation': [[0.628897004223525, 83.1930397732098, 135.21846968618252, 83.1930397732098, 135.21846968618252, 171.813638687035, 0.628897004223525, 171.813638687035]], 'area': 11927.41, 'bbox': [0.628897004223525, 83.1930397732098, 134.589572681959, 88.6205989138252], 'iscrowd': 0}\n"
     ]
    }
   ],
   "source": [
    "import os \n",
    "import cv2\n",
    "import pandas as pd \n",
    "import math\n",
    "from collections import defaultdict\n",
    "import inflection as inf\n",
    "import json\n",
    "\n",
    "#######################################################################################\n",
    "############################# CHANGE FILENAMES HERE ###################################\n",
    "#######################################################################################\n",
    "\n",
    "ann_dir = \"../../annotations/real/smallv1\"\n",
    "objdet_filename = \"iccv-real-small-objdet.json\"\n",
    "det_filename = \"iccv-real-small-detlabels.json\"\n",
    "orig_annotations_filepath = \"../../annotations/annotations_val.json\"\n",
    "\n",
    "objdet_json = json.load(open(os.path.join(ann_dir, objdet_filename)))\n",
    "det_json = json.load(open(os.path.join(ann_dir, det_filename)))\n",
    "orig_json = json.load(open(orig_annotations_filepath))\n",
    "\n",
    "categories = orig_json[\"categories\"]\n",
    "\n",
    "orig_cat_map = {}\n",
    "\n",
    "for cat in categories:\n",
    "    orig_cat_map[cat[\"name\"]] = cat[\"id\"]\n",
    "\n",
    "images = []\n",
    "objdet_images = objdet_json[\"images\"]\n",
    "det_images = det_json[\"images\"]\n",
    "det_categories = det_json[\"categories\"]\n",
    "oracle_annotations = objdet_json[\"annotations\"]\n",
    "\n",
    "cat_map = {}\n",
    "id_map = {}\n",
    "counts = defaultdict(int)\n",
    "\n",
    "for i, cat in enumerate(det_categories):\n",
    "    cat_map[cat[\"id\"]] = cat[\"name\"]\n",
    "\n",
    "for i, img in enumerate(det_images): \n",
    "    img = img.copy() \n",
    "    image_id = img[\"id\"]\n",
    "    img[\"file_name\"] = \"images/\" + img[\"file_name\"].split(\"-\")[0] + \".jpg\"\n",
    "    id_map[image_id] = i \n",
    "    images.append(img)\n",
    "\n",
    "annotations = []\n",
    "for ann in det_json[\"annotations\"]:\n",
    "    i = id_map[ann[\"image_id\"]]\n",
    "    caption = cat_map[ann[\"category_id\"]]\n",
    "    if \"juice\" in caption:\n",
    "        caption = caption.split()[0] + \" papaya juice\"\n",
    "    images[i][\"caption\"] = caption\n",
    "    name = inf.singularize(\" \".join(caption.split()[1:]))\n",
    "    ann[\"category_id\"] = orig_cat_map[name]\n",
    "    counts[ann[\"category_id\"]]  += 1\n",
    "    annotations.append(ann)\n",
    "\n",
    "new_images = []\n",
    "for i, image in enumerate(images): \n",
    "    if image.get(\"caption\"):\n",
    "        new_images.append(image)\n",
    "\n",
    "oracle_anns_map = defaultdict(list)\n",
    "oracle_file_name_map = defaultdict(int)\n",
    "oracle_id_map = defaultdict(int)\n",
    "\n",
    "for i, img in enumerate(objdet_images):\n",
    "    oracle_file_name_map[img[\"file_name\"]] = img[\"id\"]\n",
    "    oracle_id_map[img[\"id\"]] = i\n",
    "\n",
    "for ann in oracle_annotations:\n",
    "    oracle_anns_map[ann[\"image_id\"]].append(ann)\n",
    "\n",
    "for img in objdet_images:\n",
    "    file_name = img[\"file_name\"].split(\"/\")[-1]\n",
    "    img[\"id\"] = oracle_file_name_map[file_name]\n",
    "    img[\"file_name\"] = \"images/\" + file_name\n",
    "\n",
    "oracle_anns_count = defaultdict(int)\n",
    "new_input_oracle_annotations = []\n",
    "for img in new_images:\n",
    "    if img[\"id\"] == 3: \n",
    "        print(\"test\")\n",
    "    file_name = img[\"file_name\"].split(\"/\")[-1]\n",
    "    oracle_anns_count[oracle_file_name_map[file_name]] += 1\n",
    "    for ann in oracle_anns_map[oracle_file_name_map[file_name]]:\n",
    "        ann = ann.copy()\n",
    "        ann[\"image_id\"] = img[\"id\"]\n",
    "        ann[\"id\"] = len(new_input_oracle_annotations)\n",
    "        if img[\"id\"] == 12: \n",
    "            print(ann)   \n",
    "        new_input_oracle_annotations.append(ann)\n",
    "\n",
    "# new_input_oracle_annotations = []\n",
    "\n",
    "for ann in new_input_oracle_annotations: \n",
    "    caption = cat_map[ann[\"category_id\"]]\n",
    "    if \"juice\" in caption:\n",
    "        caption = \"papaya juice\"\n",
    "    name = inf.singularize(caption)\n",
    "    ann[\"category_id\"] = orig_cat_map[name]\n",
    "    \n",
    "new_annotations = {\n",
    "    \"images\": new_images,\n",
    "    \"annotations\": annotations, \n",
    "    \"input_oracle_annotations\": new_input_oracle_annotations,\n",
    "    \"categories\": categories\n",
    "}\n",
    "\n",
    "json.dump(new_annotations, open(os.path.join(ann_dir, \"merged.json\"), \"w\"))"
   ]
  },
  {
   "cell_type": "code",
   "execution_count": 38,
   "metadata": {},
   "outputs": [
    {
     "data": {
      "text/plain": [
       "3"
      ]
     },
     "execution_count": 38,
     "metadata": {},
     "output_type": "execute_result"
    }
   ],
   "source": [
    "len(oracle_anns_map[12])"
   ]
  },
  {
   "cell_type": "code",
   "execution_count": 31,
   "metadata": {},
   "outputs": [
    {
     "data": {
      "text/plain": [
       "{'id': 12,\n",
       " 'datatorch_id': 'b48835ba-ac32-4bf9-b696-81669cc1536d',\n",
       " 'storage_id': '1c8751ef-dfc8-4b41-9f8b-c5dd5ff755e2',\n",
       " 'path': '000015-00.jpg',\n",
       " 'width': 256,\n",
       " 'height': 256,\n",
       " 'file_name': 'images/000015.jpg',\n",
       " 'metadata': {},\n",
       " 'date_captured': '2023-02-27T10:56:14.284Z',\n",
       " 'caption': 'an onion'}"
      ]
     },
     "execution_count": 31,
     "metadata": {},
     "output_type": "execute_result"
    }
   ],
   "source": [
    "new_images[3]"
   ]
  },
  {
   "cell_type": "code",
   "execution_count": 35,
   "metadata": {},
   "outputs": [
    {
     "name": "stdout",
     "output_type": "stream",
     "text": [
      "hi\n",
      "9\n"
     ]
    }
   ],
   "source": [
    "# for ann in annotations: \n",
    "#     if ann[\"image_id\"] == 42: \n",
    "#         print(ann)\n",
    "\n",
    "for ann in new_input_oracle_annotations: \n",
    "    if ann[\"image_id\"] == 12: \n",
    "        print(\"hi\")\n",
    "        print(ann[\"category_id\"])"
   ]
  },
  {
   "cell_type": "code",
   "execution_count": 24,
   "metadata": {},
   "outputs": [
    {
     "name": "stdout",
     "output_type": "stream",
     "text": [
      "780\n",
      "boo\n",
      "boo\n",
      "boo\n",
      "boo\n",
      "boo\n",
      "boo\n",
      "boo\n",
      "boo\n",
      "boo\n",
      "boo\n",
      "[495, 495, 495, 495, 495, 495, 495, 495, 495, 495, 496, 496, 496, 496, 496, 496, 496, 496, 496, 496, 497, 497, 497, 497, 497, 497, 497, 497, 497, 497, 498, 498, 498, 498, 498, 498, 498, 498, 498, 498, 499, 499, 499, 499, 499, 499, 499, 499, 499, 499, 500, 500, 500, 500, 500, 500, 500, 500, 500, 500, 501, 501, 501, 501, 501, 501, 501, 501, 501, 501, 502, 502, 502, 502, 502, 502, 502, 502, 502, 502, 503, 503, 503, 503, 503, 503, 503, 503, 503, 503, 504, 504, 504, 504, 504, 504, 504, 504, 504, 504, 505, 505, 505, 505, 505, 505, 505, 505, 505, 505, 577, 577, 577, 577, 577, 578, 578, 578, 578, 578, 579, 579, 579, 579, 579, 580, 580, 580, 580, 580, 581, 581, 581, 581, 581, 582, 582, 582, 582, 582, 583, 583, 583, 583, 583, 584, 584, 584, 584, 584, 724, 724, 724, 724, 725, 725, 725, 725, 726, 726, 726, 726, 727, 727, 727, 727, 727, 727, 727, 727, 727, 727, 727, 727, 727, 727, 727, 727, 727, 727, 728, 728, 728, 728, 728, 728, 728, 728, 728, 728, 728, 728, 728, 728, 728, 728, 728, 728, 729, 729, 729, 729, 729, 729, 729, 729, 729, 729, 729, 729, 729, 729, 729, 729, 729, 729, 730, 730, 730, 730, 730, 730, 730, 730, 730, 730, 730, 730, 730, 730, 730, 730, 730, 730, 731, 731, 731, 731, 731, 731, 731, 731, 731, 731, 731, 731, 731, 731, 731, 731, 731, 731, 732, 732, 732, 732, 732, 732, 732, 732, 732, 732, 732, 732, 732, 732, 732, 732, 732, 732, 733, 733, 733, 733, 733, 733, 733, 733, 733, 733, 733, 733, 733, 733, 733, 733, 733, 733, 734, 734, 734, 734, 734, 734, 734, 734, 734, 734, 734, 734, 734, 734, 734, 734, 734, 734, 735, 735, 735, 735, 735, 735, 735, 735, 735, 735, 735, 735, 735, 735, 735, 735, 735, 735, 736, 736, 736, 736, 736, 736, 736, 736, 736, 736, 736, 736, 736, 736, 736, 736, 736, 736, 737, 737, 737, 737, 737, 737, 737, 737, 737, 737, 737, 737, 737, 737, 737, 737, 737, 737, 738, 738, 738, 738, 738, 738, 738, 738, 738, 738, 738, 738, 738, 738, 738, 738, 738, 738, 739, 739, 739, 739, 739, 739, 739, 739, 739, 739, 739, 739, 739, 739, 739, 739, 739, 739, 740, 740, 740, 740, 740, 740, 740, 740, 740, 740, 740, 740, 740, 740, 740, 740, 740, 740, 741, 741, 741, 741, 741, 741, 741, 741, 741, 741, 741, 741, 741, 741, 741, 741, 741, 741, 742, 742, 742, 742, 742, 742, 742, 742, 742, 742, 742, 742, 742, 742, 742, 742, 742, 742, 743, 743, 743, 743, 743, 743, 743, 743, 743, 743, 743, 743, 743, 743, 743, 743, 743, 743, 744, 744, 744, 744, 744, 744, 744, 744, 744, 744, 744, 744, 744, 744, 744, 744, 744, 744, 745, 745, 745, 745, 745, 745, 745, 745, 745, 745, 745, 745, 745, 745, 745, 745, 745, 745, 746, 746, 746, 746, 746, 746, 746, 746, 746, 746, 746, 746, 746, 746, 746, 746, 746, 746, 747, 747, 747, 747, 747, 747, 747, 747, 747, 747, 747, 747, 747, 747, 747, 747, 747, 747, 748, 748, 748, 748, 748, 748, 748, 748, 748, 748, 748, 748, 748, 748, 748, 748, 748, 748, 749, 749, 749, 749, 749, 749, 749, 749, 749, 749, 749, 749, 749, 749, 749, 749, 749, 749, 750, 750, 750, 750, 750, 750, 750, 750, 750, 750, 750, 750, 750, 750, 750, 750, 750, 750, 751, 751, 751, 751, 751, 751, 751, 751, 751, 751, 751, 751, 751, 751, 751, 751, 751, 751, 752, 752, 752, 752, 752, 752, 752, 752, 752, 752, 752, 752, 752, 752, 752, 752, 752, 752, 753, 753, 753, 753, 753, 753, 753, 753, 753, 753, 753, 753, 753, 753, 753, 753, 753, 753, 754, 754, 754, 754, 754, 754, 754, 754, 754, 754, 754, 754, 754, 754, 754, 754, 754, 754, 755, 755, 755, 755, 755, 755, 755, 755, 755, 755, 755, 755, 755, 755, 755, 755, 755, 755, 756, 756, 756, 756, 756, 756, 756, 756, 756, 756, 756, 756, 756, 756, 756, 756, 756, 756, 763, 763, 763, 763, 763, 763, 764, 764, 764, 764, 764, 764, 765, 765, 765, 765, 765, 766, 766, 766, 766, 766, 767, 767, 767, 767, 767, 768, 768, 768, 768, 768, 769, 769, 769, 769, 769, 770, 770, 770, 770, 770, 771, 771, 771, 771, 771, 772, 772, 772, 772, 772, 773, 773, 774, 774, 775, 775, 776, 776, 776, 776, 776, 777, 777, 777, 777, 777, 778, 778, 778, 778, 778, 779, 779, 779, 779, 779]\n"
     ]
    }
   ],
   "source": [
    "ids =[]\n",
    "for ann in new_input_oracle_annotations: \n",
    "    ids.append(ann[\"id\"])\n",
    "print(len(ids))\n",
    "\n",
    "for id in ids: \n",
    "    if id == 495: \n",
    "        print(\"boo\")\n",
    "    \n",
    "false_count = 0 \n",
    "for i in range(len(ids)): \n",
    "    if i not in ids: \n",
    "        false_count += 1\n",
    "        # print(i, False)\n",
    "false_count\n",
    "print(sorted(ids))"
   ]
  },
  {
   "cell_type": "code",
   "execution_count": null,
   "metadata": {},
   "outputs": [],
   "source": []
  }
 ],
 "metadata": {
  "kernelspec": {
   "display_name": "ai_env",
   "language": "python",
   "name": "python3"
  },
  "language_info": {
   "codemirror_mode": {
    "name": "ipython",
    "version": 3
   },
   "file_extension": ".py",
   "mimetype": "text/x-python",
   "name": "python",
   "nbconvert_exporter": "python",
   "pygments_lexer": "ipython3",
   "version": "3.9.0"
  },
  "orig_nbformat": 4,
  "vscode": {
   "interpreter": {
    "hash": "98f310addaf7dac00cd5965e6c1c6cb4dc304674e0e6e4d0010a991e9aec678e"
   }
  }
 },
 "nbformat": 4,
 "nbformat_minor": 2
}
