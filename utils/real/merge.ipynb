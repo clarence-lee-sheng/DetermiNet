{
 "cells": [
  {
   "attachments": {},
   "cell_type": "markdown",
   "metadata": {},
   "source": [
    "### Merge obj det and determiner label files"
   ]
  },
  {
   "cell_type": "code",
   "execution_count": 60,
   "metadata": {},
   "outputs": [
    {
     "ename": "FileNotFoundError",
     "evalue": "[Errno 2] No such file or directory: '../../annotations/real/smallv1\\\\iccv-real-small-diffobj-objdet.json'",
     "output_type": "error",
     "traceback": [
      "\u001b[1;31m---------------------------------------------------------------------------\u001b[0m",
      "\u001b[1;31mFileNotFoundError\u001b[0m                         Traceback (most recent call last)",
      "Cell \u001b[1;32mIn[60], line 18\u001b[0m\n\u001b[0;32m     15\u001b[0m det_filename \u001b[39m=\u001b[39m \u001b[39m\"\u001b[39m\u001b[39miccv-real-small-diffobj-detlabels.json\u001b[39m\u001b[39m\"\u001b[39m\n\u001b[0;32m     16\u001b[0m orig_annotations_filepath \u001b[39m=\u001b[39m \u001b[39m\"\u001b[39m\u001b[39m../../annotations/real/smallv1/categories-diffobj.json\u001b[39m\u001b[39m\"\u001b[39m\n\u001b[1;32m---> 18\u001b[0m objdet_json \u001b[39m=\u001b[39m json\u001b[39m.\u001b[39mload(\u001b[39mopen\u001b[39;49m(os\u001b[39m.\u001b[39;49mpath\u001b[39m.\u001b[39;49mjoin(ann_dir, objdet_filename)))\n\u001b[0;32m     19\u001b[0m det_json \u001b[39m=\u001b[39m json\u001b[39m.\u001b[39mload(\u001b[39mopen\u001b[39m(os\u001b[39m.\u001b[39mpath\u001b[39m.\u001b[39mjoin(ann_dir, det_filename)))\n\u001b[0;32m     20\u001b[0m orig_json \u001b[39m=\u001b[39m json\u001b[39m.\u001b[39mload(\u001b[39mopen\u001b[39m(orig_annotations_filepath))\n",
      "File \u001b[1;32mc:\\Users\\clshe\\Documents\\python-envs\\ai_env\\lib\\site-packages\\IPython\\core\\interactiveshell.py:282\u001b[0m, in \u001b[0;36m_modified_open\u001b[1;34m(file, *args, **kwargs)\u001b[0m\n\u001b[0;32m    275\u001b[0m \u001b[39mif\u001b[39;00m file \u001b[39min\u001b[39;00m {\u001b[39m0\u001b[39m, \u001b[39m1\u001b[39m, \u001b[39m2\u001b[39m}:\n\u001b[0;32m    276\u001b[0m     \u001b[39mraise\u001b[39;00m \u001b[39mValueError\u001b[39;00m(\n\u001b[0;32m    277\u001b[0m         \u001b[39mf\u001b[39m\u001b[39m\"\u001b[39m\u001b[39mIPython won\u001b[39m\u001b[39m'\u001b[39m\u001b[39mt let you open fd=\u001b[39m\u001b[39m{\u001b[39;00mfile\u001b[39m}\u001b[39;00m\u001b[39m by default \u001b[39m\u001b[39m\"\u001b[39m\n\u001b[0;32m    278\u001b[0m         \u001b[39m\"\u001b[39m\u001b[39mas it is likely to crash IPython. If you know what you are doing, \u001b[39m\u001b[39m\"\u001b[39m\n\u001b[0;32m    279\u001b[0m         \u001b[39m\"\u001b[39m\u001b[39myou can use builtins\u001b[39m\u001b[39m'\u001b[39m\u001b[39m open.\u001b[39m\u001b[39m\"\u001b[39m\n\u001b[0;32m    280\u001b[0m     )\n\u001b[1;32m--> 282\u001b[0m \u001b[39mreturn\u001b[39;00m io_open(file, \u001b[39m*\u001b[39margs, \u001b[39m*\u001b[39m\u001b[39m*\u001b[39mkwargs)\n",
      "\u001b[1;31mFileNotFoundError\u001b[0m: [Errno 2] No such file or directory: '../../annotations/real/smallv1\\\\iccv-real-small-diffobj-objdet.json'"
     ]
    }
   ],
   "source": [
    "import os \n",
    "import cv2\n",
    "import pandas as pd \n",
    "import math\n",
    "from collections import defaultdict\n",
    "import inflection as inf\n",
    "import json\n",
    "\n",
    "#######################################################################################\n",
    "############################# CHANGE FILENAMES HERE ###################################\n",
    "#######################################################################################\n",
    "\n",
    "ann_dir = \"../../annotations/real/smallv1\"\n",
    "objdet_filename = \"iccv-real-small-diffobj-objdet-1.json\"\n",
    "det_filename = \"iccv-real-small-diffobj-detlabels-1.json\"\n",
    "orig_annotations_filepath = \"../../annotations/real/smallv1/categories-diffobj.json\"\n",
    "save_filename = \"merged.json\"\n",
    "\n",
    "objdet_json = json.load(open(os.path.join(ann_dir, objdet_filename)))\n",
    "det_json = json.load(open(os.path.join(ann_dir, det_filename)))\n",
    "orig_json = json.load(open(orig_annotations_filepath))\n",
    "\n",
    "categories = orig_json[\"categories\"]\n",
    "\n",
    "orig_cat_map = {}\n",
    "\n",
    "for cat in categories:\n",
    "    orig_cat_map[cat[\"name\"]] = cat[\"id\"]\n",
    "\n",
    "images = []\n",
    "objdet_images = objdet_json[\"images\"]\n",
    "det_images = det_json[\"images\"]\n",
    "det_categories = det_json[\"categories\"]\n",
    "oracle_annotations = objdet_json[\"annotations\"]\n",
    "\n",
    "cat_map = {}\n",
    "id_map = {}\n",
    "counts = defaultdict(int)\n",
    "\n",
    "for i, cat in enumerate(det_categories):\n",
    "    cat_map[cat[\"id\"]] = cat[\"name\"]\n",
    "\n",
    "for i, img in enumerate(det_images): \n",
    "    img = img.copy() \n",
    "    image_id = img[\"id\"]\n",
    "    img[\"file_name\"] = \"images/\" + img[\"file_name\"].split(\"-\")[0] + \".jpg\"\n",
    "    id_map[image_id] = i \n",
    "    images.append(img)\n",
    "\n",
    "annotations = []\n",
    "for ann in det_json[\"annotations\"]:\n",
    "    i = id_map[ann[\"image_id\"]]\n",
    "    caption = cat_map[ann[\"category_id\"]]\n",
    "    if \"juice\" in caption:\n",
    "        caption = caption.split()[0] + \" papaya juice\"\n",
    "    images[i][\"caption\"] = caption\n",
    "    name = inf.singularize(\" \".join(caption.split()[1:]))\n",
    "    ann[\"category_id\"] = orig_cat_map[name]\n",
    "    counts[ann[\"category_id\"]]  += 1\n",
    "    annotations.append(ann)\n",
    "\n",
    "new_images = []\n",
    "for i, image in enumerate(images): \n",
    "    if image.get(\"caption\"):\n",
    "        new_images.append(image)\n",
    "\n",
    "oracle_anns_map = defaultdict(list)\n",
    "oracle_file_name_map = defaultdict(int)\n",
    "oracle_id_map = defaultdict(int)\n",
    "\n",
    "for i, img in enumerate(objdet_images):\n",
    "    oracle_file_name_map[img[\"file_name\"]] = img[\"id\"]\n",
    "    oracle_id_map[img[\"id\"]] = i\n",
    "\n",
    "for ann in oracle_annotations:\n",
    "    oracle_anns_map[ann[\"image_id\"]].append(ann)\n",
    "\n",
    "for img in objdet_images:\n",
    "    file_name = img[\"file_name\"].split(\"/\")[-1]\n",
    "    img[\"id\"] = oracle_file_name_map[file_name]\n",
    "    img[\"file_name\"] = \"images/\" + file_name\n",
    "\n",
    "oracle_anns_count = defaultdict(int)\n",
    "new_input_oracle_annotations = []\n",
    "for img in new_images:\n",
    "    file_name = img[\"file_name\"].split(\"/\")[-1]\n",
    "    if img[\"id\"] == 12: \n",
    "        print(\"test\")\n",
    "        print(file_name)\n",
    "    oracle_anns_count[oracle_file_name_map[file_name]] += 1\n",
    "    if img[\"id\"] == 12: \n",
    "        print(len(oracle_anns_map[12]))\n",
    "        print(oracle_file_name_map[file_name])\n",
    "    for ann in oracle_anns_map[oracle_file_name_map[file_name]]:\n",
    "        ann = ann.copy()\n",
    "        ann[\"image_id\"] = img[\"id\"]\n",
    "        ann[\"id\"] = len(new_input_oracle_annotations)\n",
    "        if img[\"id\"] == 12: \n",
    "            print(\"hi\")   \n",
    "        new_input_oracle_annotations.append(ann)\n",
    "\n",
    "# new_input_oracle_annotations = []\n",
    "\n",
    "for ann in new_input_oracle_annotations: \n",
    "    caption = cat_map[ann[\"category_id\"]]\n",
    "    if \"juice\" in caption:\n",
    "        caption = \"papaya juice\"\n",
    "    name = inf.singularize(caption)\n",
    "    ann[\"category_id\"] = orig_cat_map[name]\n",
    "    \n",
    "new_annotations = {\n",
    "    \"images\": new_images,\n",
    "    \"annotations\": annotations, \n",
    "    \"input_oracle_annotations\": new_input_oracle_annotations,\n",
    "    \"categories\": categories\n",
    "}\n",
    "\n",
    "json.dump(new_annotations, open(os.path.join(ann_dir, save_filename), \"w\"))"
   ]
  },
  {
   "cell_type": "code",
   "execution_count": 56,
   "metadata": {},
   "outputs": [
    {
     "name": "stdout",
     "output_type": "stream",
     "text": [
      "4\n",
      "{'id': 4, 'datatorch_id': 'f9a286aa-b0aa-4f29-8991-a44b28dfa6d2', 'storage_id': '1c8751ef-dfc8-4b41-9f8b-c5dd5ff755e2', 'path': '000015.jpg', 'width': 256, 'height': 256, 'file_name': 'images/000015.jpg', 'metadata': {}, 'date_captured': '2023-02-27T09:31:11.229Z'}\n",
      "{'id': 81, 'datatorch_id': '47948905-da9f-4068-b4a4-4831eae2c753', 'image_id': 4, 'category_id': 94, 'segmentation': [[0.628897004223525, 83.1930397732098, 135.21846968618252, 83.1930397732098, 135.21846968618252, 171.813638687035, 0.628897004223525, 171.813638687035]], 'area': 11927.41, 'bbox': [0.628897004223525, 83.1930397732098, 134.589572681959, 88.6205989138252], 'iscrowd': 0}\n",
      "{'id': 185, 'datatorch_id': 'b065f062-d723-42bb-bf85-18b3a07e86a5', 'image_id': 4, 'category_id': 101, 'segmentation': [[43.8876057238763, 94.2640833838732, 113.83627096281, 94.2640833838732, 113.83627096281, 158.525865270048, 43.8876057238763, 158.525865270048]], 'area': 4495.03, 'bbox': [43.8876057238763, 94.2640833838732, 69.9486652389337, 64.2617818861748], 'iscrowd': 0}\n",
      "{'id': 258, 'datatorch_id': 'f82b656f-4458-46fb-a89a-1e3f4d7d4df3', 'image_id': 4, 'category_id': 101, 'segmentation': [[113.83627096281, 100.519655071908, 174.1172345020536, 100.519655071908, 174.1172345020536, 165.3501252933587, 113.83627096281, 165.3501252933587]], 'area': 3908.04, 'bbox': [113.83627096281, 100.519655071908, 60.2809635392436, 64.8304702214507], 'iscrowd': 0}\n",
      "3\n"
     ]
    },
    {
     "data": {
      "text/plain": [
       "'banana'"
      ]
     },
     "execution_count": 56,
     "metadata": {},
     "output_type": "execute_result"
    }
   ],
   "source": [
    "print(oracle_file_name_map[\"000015.jpg\"])\n",
    "\n",
    "count = 0\n",
    "\n",
    "for img in objdet_json[\"images\"]: \n",
    "    if img[\"id\"] == 4: \n",
    "        print(img)\n",
    "for ann in objdet_json[\"annotations\"]: \n",
    "    if ann[\"image_id\"] == 4: \n",
    "        print(ann)\n",
    "        count += 1 \n",
    "print(count)\n",
    "oracle_anns_map[4]\n",
    "cat_map[94]"
   ]
  },
  {
   "cell_type": "code",
   "execution_count": 57,
   "metadata": {},
   "outputs": [
    {
     "data": {
      "text/plain": [
       "3"
      ]
     },
     "execution_count": 57,
     "metadata": {},
     "output_type": "execute_result"
    }
   ],
   "source": [
    "len(oracle_anns_map[4])"
   ]
  },
  {
   "cell_type": "code",
   "execution_count": 58,
   "metadata": {},
   "outputs": [
    {
     "data": {
      "text/plain": [
       "{'id': 12,\n",
       " 'datatorch_id': 'b48835ba-ac32-4bf9-b696-81669cc1536d',\n",
       " 'storage_id': '1c8751ef-dfc8-4b41-9f8b-c5dd5ff755e2',\n",
       " 'path': '000015-00.jpg',\n",
       " 'width': 256,\n",
       " 'height': 256,\n",
       " 'file_name': 'images/000015.jpg',\n",
       " 'metadata': {},\n",
       " 'date_captured': '2023-02-27T10:56:14.284Z',\n",
       " 'caption': 'an onion'}"
      ]
     },
     "execution_count": 58,
     "metadata": {},
     "output_type": "execute_result"
    }
   ],
   "source": [
    "new_images[3]"
   ]
  },
  {
   "cell_type": "code",
   "execution_count": 59,
   "metadata": {},
   "outputs": [
    {
     "name": "stdout",
     "output_type": "stream",
     "text": [
      "hi\n",
      "9\n",
      "hi\n",
      "1\n",
      "hi\n",
      "1\n"
     ]
    }
   ],
   "source": [
    "# for ann in annotations: \n",
    "#     if ann[\"image_id\"] == 42: \n",
    "#         print(ann)\n",
    "\n",
    "for ann in new_input_oracle_annotations: \n",
    "    if ann[\"image_id\"] == 12: \n",
    "        print(\"hi\")\n",
    "        print(ann[\"category_id\"])"
   ]
  },
  {
   "cell_type": "code",
   "execution_count": null,
   "metadata": {},
   "outputs": [],
   "source": []
  }
 ],
 "metadata": {
  "kernelspec": {
   "display_name": "ai_env",
   "language": "python",
   "name": "python3"
  },
  "language_info": {
   "codemirror_mode": {
    "name": "ipython",
    "version": 3
   },
   "file_extension": ".py",
   "mimetype": "text/x-python",
   "name": "python",
   "nbconvert_exporter": "python",
   "pygments_lexer": "ipython3",
   "version": "3.9.0"
  },
  "orig_nbformat": 4,
  "vscode": {
   "interpreter": {
    "hash": "98f310addaf7dac00cd5965e6c1c6cb4dc304674e0e6e4d0010a991e9aec678e"
   }
  }
 },
 "nbformat": 4,
 "nbformat_minor": 2
}
